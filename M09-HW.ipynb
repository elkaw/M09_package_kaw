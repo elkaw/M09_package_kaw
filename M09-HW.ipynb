{
 "cells": [
  {
   "cell_type": "markdown",
   "metadata": {},
   "source": [
    "# Metadata\n",
    "\n",
    "```yaml\n",
    "Course:  DS 5100\n",
    "Module:  09 Python Packages\n",
    "Topic:   HW Package Booklover\n",
    "Author:  R.C. Alvarado (adapted)\n",
    "Date:    10 October 2022 (revised)\n",
    "```"
   ]
  },
  {
   "cell_type": "markdown",
   "metadata": {},
   "source": [
    "# Student Info\n",
    "\n",
    "* Name:  Eashan Kaw\n",
    "* Net UD: elk7ed\n",
    "* URL of this file in GitHub:https://github.com/elkaw/DS5100-2023-01-O/blob/main/lessons/M09_PythonModules/M09-HW.ipynb"
   ]
  },
  {
   "cell_type": "markdown",
   "metadata": {},
   "source": [
    "# Instructions\n",
    "\n",
    "In your **private course repo on Rivanna**, use this Jupyter notebook and the data file described to write code that performs the tasks below. \n",
    "\n",
    "Save your notebook in the `M09` directory.\n",
    "\n",
    "Remember to add and commit these files to your repo. \n",
    "\n",
    "Then push your commits to your repo on GitHib.\n",
    "\n",
    "Be sure to fill out the **Student Info** block above.\n",
    "\n",
    "To submit your homework, save your results as a PDF and upload it to GradeScope. More information about how to create the PDF for this assignment are included at the end of this document.\n",
    "\n",
    "**TOTAL POINTS: 8**"
   ]
  },
  {
   "cell_type": "markdown",
   "metadata": {},
   "source": [
    "# Overview\n",
    "\n",
    "Follow the following recipe we used in class to package the code you wrote for `HW08` -- `booklover.py` and `booklover_test.py`.\n",
    "\n",
    "* Create a new git repo for your package.\n",
    "* Create and edit the required files and directories for your package and move the booklover modules there.\n",
    "* Stage, commit, and push all the files you've created.\n",
    "* Install your package with pip.\n",
    "* Outside of your package dir, write a script to test your method.\n",
    "\n",
    "Put this notebook in your repo. This will allow you to execute bash commands and capture the outpunt directly in the notebook.\n",
    "\n",
    "**TOTAL: 8 POINTS**"
   ]
  },
  {
   "cell_type": "markdown",
   "metadata": {
    "tags": []
   },
   "source": [
    "# Tasks"
   ]
  },
  {
   "cell_type": "markdown",
   "metadata": {},
   "source": [
    "## Task 1\n",
    "\n",
    "(5 points)\n",
    "\n",
    "Show the directory structure of your repo by running this command from the root of your repo:"
   ]
  },
  {
   "cell_type": "code",
   "execution_count": 44,
   "metadata": {},
   "outputs": [
    {
     "name": "stdout",
     "output_type": "stream",
     "text": [
      ".:\n",
      "total 28\n",
      "drwxr-sr-x 4 elk7ed users 3072 Apr  4 10:07 booklover\n",
      "drwxr-sr-x 3 elk7ed users 2560 Apr  4 10:16 booklover.egg-info\n",
      "drwxr-sr-x 3 elk7ed users 1024 Apr  4 10:15 dist\n",
      "-rw-r--r-- 1 elk7ed users 7846 Apr  4 10:16 M09-HW.ipynb\n",
      "-rw-r--r-- 1 elk7ed users  302 Apr  4 09:55 setup.py\n",
      "\n",
      "./booklover:\n",
      "total 28\n",
      "-rw-r--r-- 1 elk7ed users 2225 Apr  4 10:07 booklover.py\n",
      "-rw-r--r-- 1 elk7ed users   98 Apr  2 18:36 booklover_results.txt\n",
      "-rw-r--r-- 1 elk7ed users 2662 Apr  2 18:36 booklover_test.py\n",
      "-rw-r--r-- 1 elk7ed users   20 Apr  3 12:48 __init__.py\n",
      "drwxr-sr-x 2 elk7ed users 1024 Apr  4 10:09 __pycache__\n",
      "\n",
      "./booklover/__pycache__:\n",
      "total 12\n",
      "-rw-r--r-- 1 elk7ed users 2605 Apr  4 10:09 booklover.cpython-38.pyc\n",
      "-rw-r--r-- 1 elk7ed users  237 Apr  4 10:03 __init__.cpython-38.pyc\n",
      "\n",
      "./booklover.egg-info:\n",
      "total 16\n",
      "-rw-r--r-- 1 elk7ed users   1 Apr  4 10:16 dependency_links.txt\n",
      "-rw-r--r-- 1 elk7ed users 213 Apr  4 10:16 PKG-INFO\n",
      "-rw-r--r-- 1 elk7ed users 210 Apr  4 10:16 SOURCES.txt\n",
      "-rw-r--r-- 1 elk7ed users  16 Apr  4 10:16 top_level.txt\n",
      "\n",
      "./dist:\n",
      "total 4\n",
      "-rw-r--r-- 1 elk7ed users 881 Apr  3 22:08 booklover-1.0.tar.gz\n"
     ]
    }
   ],
   "source": [
    "!cd booklover; ls -lR"
   ]
  },
  {
   "cell_type": "markdown",
   "metadata": {},
   "source": [
    "## Task 2\n",
    "\n",
    "(1 point)\n",
    "\n",
    "Put the URL of your GitHub repo here. Just paste it into a Markdown cell."
   ]
  },
  {
   "cell_type": "markdown",
   "metadata": {},
   "source": [
    "URL: https://github.com/elkaw/booklover"
   ]
  },
  {
   "cell_type": "markdown",
   "metadata": {
    "lines_to_next_cell": 0
   },
   "source": [
    "## Task 3\n",
    "\n",
    "(1 point)\n",
    "\n",
    "Show the results of installing your package.\n",
    "\n",
    "```bash\n",
    "!pip install -e .\n",
    "```"
   ]
  },
  {
   "cell_type": "code",
   "execution_count": 45,
   "metadata": {},
   "outputs": [
    {
     "name": "stdout",
     "output_type": "stream",
     "text": [
      "Defaulting to user installation because normal site-packages is not writeable\n",
      "Obtaining file:///sfs/qumulo/qhome/elk7ed/Documents/MSDS/DS5100/DS5100-2023-01-O/lessons/M09_PythonModules/booklover\n",
      "Installing collected packages: booklover\n",
      "  Attempting uninstall: booklover\n",
      "    Found existing installation: booklover 1.0\n",
      "    Uninstalling booklover-1.0:\n",
      "      Successfully uninstalled booklover-1.0\n",
      "  Running setup.py develop for booklover\n",
      "Successfully installed booklover\n"
     ]
    }
   ],
   "source": [
    "!cd booklover ; pip install -e ."
   ]
  },
  {
   "cell_type": "markdown",
   "metadata": {},
   "source": [
    "## Task 4\n",
    "\n",
    "(1 point)\n",
    "\n",
    "Create a file outside your repo to test your package by running it.\n",
    "\n",
    "To do this, import the package into your file and create a BookLover object.\n",
    "\n",
    "Then add a book and then print number books read.\n",
    "\n",
    "Then run the file. \n",
    "\n",
    "Show the output of running the file below, using a command like the following:\n",
    "\n",
    "```bash\n",
    "!python ../book_lover_demo.py\n",
    "```"
   ]
  },
  {
   "cell_type": "code",
   "execution_count": 46,
   "metadata": {},
   "outputs": [
    {
     "name": "stdout",
     "output_type": "stream",
     "text": [
      "/sfs/qumulo/qhome/elk7ed/Documents/MSDS/DS5100/DS5100-2023-01-O/lessons/M09_PythonModules/booklover\n",
      "hello world\n",
      "1\n"
     ]
    }
   ],
   "source": [
    "!cd booklover ;pwd; python ../book_lover_demo.py"
   ]
  },
  {
   "cell_type": "code",
   "execution_count": null,
   "metadata": {},
   "outputs": [],
   "source": []
  }
 ],
 "metadata": {
  "jupytext": {
   "cell_metadata_filter": "-all",
   "main_language": "bash",
   "notebook_metadata_filter": "-all"
  },
  "kernelspec": {
   "display_name": "Python 3",
   "language": "python",
   "name": "python3"
  },
  "language_info": {
   "codemirror_mode": {
    "name": "ipython",
    "version": 3
   },
   "file_extension": ".py",
   "mimetype": "text/x-python",
   "name": "python",
   "nbconvert_exporter": "python",
   "pygments_lexer": "ipython3",
   "version": "3.8.8"
  },
  "vscode": {
   "interpreter": {
    "hash": "c3b963de08c47c3b6758389c5e0978ad73698a111eb508d4e16b558edb8f4cbf"
   }
  },
  "widgets": {
   "application/vnd.jupyter.widget-state+json": {
    "state": {},
    "version_major": 2,
    "version_minor": 0
   }
  }
 },
 "nbformat": 4,
 "nbformat_minor": 5
}
